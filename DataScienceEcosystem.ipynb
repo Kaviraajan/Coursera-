{
 "cells": [
  {
   "cell_type": "markdown",
   "id": "d1948ace-555c-4f93-9acc-cbb480054f80",
   "metadata": {
    "tags": []
   },
   "source": [
    "# Data Science Tools and Ecosystem"
   ]
  },
  {
   "cell_type": "markdown",
   "id": "8bcdee24-d3ce-489f-92c9-ad86ec4d7e44",
   "metadata": {
    "tags": []
   },
   "source": [
    "# In this notebook, Data Science Tools and Ecosystem are summarized.\n"
   ]
  },
  {
   "cell_type": "markdown",
   "id": "0bf91c73-4463-4b33-8879-0e5c276048b9",
   "metadata": {
    "tags": []
   },
   "source": [
    "# Some of the popular languages that Data Scientists use are:"
   ]
  },
  {
   "cell_type": "markdown",
   "id": "9bd90350-d511-43bd-8aac-c69f263e5879",
   "metadata": {},
   "source": [
    "1. Python \n",
    "2. C/C++\n",
    "3. R"
   ]
  },
  {
   "cell_type": "markdown",
   "id": "f0f1b705-1cf1-467e-9b4d-11ecd44caca2",
   "metadata": {
    "tags": []
   },
   "source": [
    "# Some of the commonly used libraries used by Data Scientists include:"
   ]
  },
  {
   "cell_type": "markdown",
   "id": "d634f2e5-b594-41d3-9545-7cfb12e9be5a",
   "metadata": {},
   "source": [
    "1. Numpy\n",
    "2. Pandas\n",
    "3. TensorFlow"
   ]
  },
  {
   "cell_type": "markdown",
   "id": "24f02346-b2ac-4f33-b8ed-c0b1ee59e99f",
   "metadata": {
    "tags": []
   },
   "source": [
    "### Data Science Tools\n",
    "\n",
    "| Data Science Tools|\n",
    "|:--------:|\n",
    "| Juypter Notebook |\n",
    "|  Apache Spark | \n",
    "| Google Colab |  "
   ]
  },
  {
   "cell_type": "markdown",
   "id": "0c5cf85e-fbdb-4656-bdaa-819f391aa4db",
   "metadata": {},
   "source": [
    "### Below are a few examples of evaluating arithmetic expressions in Python"
   ]
  },
  {
   "cell_type": "code",
   "execution_count": 2,
   "id": "f8de1a6f-e113-4ac7-89f2-61cddba88614",
   "metadata": {
    "tags": []
   },
   "outputs": [
    {
     "data": {
      "text/plain": [
       "17"
      ]
     },
     "execution_count": 2,
     "metadata": {},
     "output_type": "execute_result"
    }
   ],
   "source": [
    "#This a simple arithmetic expression to mutiply then add integers\n",
    "(3*4)+5"
   ]
  },
  {
   "cell_type": "code",
   "execution_count": 3,
   "id": "e84cf074-bf1f-497a-88d5-295d44393b00",
   "metadata": {
    "tags": []
   },
   "outputs": [
    {
     "data": {
      "text/plain": [
       "3.3333333333333335"
      ]
     },
     "execution_count": 3,
     "metadata": {},
     "output_type": "execute_result"
    }
   ],
   "source": [
    "#his will convert 200 minutes to hours by diving by 60\n",
    "200/60"
   ]
  },
  {
   "cell_type": "markdown",
   "id": "b1f30447-dc34-455d-8904-50a2016faf4c",
   "metadata": {
    "tags": []
   },
   "source": [
    "# **Objectives:**"
   ]
  },
  {
   "cell_type": "markdown",
   "id": "9ea4edd0-78cd-4dca-8682-6d86029df348",
   "metadata": {},
   "source": [
    "- Data Science Languages\n",
    "- Data Science Tools\n",
    "- Arithmetic expressions in Python\n"
   ]
  },
  {
   "cell_type": "markdown",
   "id": "61000f79-cf7f-4217-a9e3-688f1136e2da",
   "metadata": {},
   "source": [
    "## Author:\n",
    "Kaviraajan Malarvannan"
   ]
  },
  {
   "cell_type": "code",
   "execution_count": null,
   "id": "6277d2db-62b1-4075-9727-0c454e6b9ad2",
   "metadata": {},
   "outputs": [],
   "source": []
  }
 ],
 "metadata": {
  "kernelspec": {
   "display_name": "Python",
   "language": "python",
   "name": "conda-env-python-py"
  },
  "language_info": {
   "codemirror_mode": {
    "name": "ipython",
    "version": 3
   },
   "file_extension": ".py",
   "mimetype": "text/x-python",
   "name": "python",
   "nbconvert_exporter": "python",
   "pygments_lexer": "ipython3",
   "version": "3.7.12"
  }
 },
 "nbformat": 4,
 "nbformat_minor": 5
}
